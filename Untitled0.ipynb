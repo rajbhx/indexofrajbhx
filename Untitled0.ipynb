{
  "nbformat": 4,
  "nbformat_minor": 0,
  "metadata": {
    "colab": {
      "name": "Untitled0.ipynb",
      "provenance": [],
      "authorship_tag": "ABX9TyMGhy+UQNPjl+l1kvCvdmkP",
      "include_colab_link": true
    },
    "kernelspec": {
      "name": "python3",
      "display_name": "Python 3"
    },
    "language_info": {
      "name": "python"
    }
  },
  "cells": [
    {
      "cell_type": "markdown",
      "metadata": {
        "id": "view-in-github",
        "colab_type": "text"
      },
      "source": [
        "<a href=\"https://colab.research.google.com/github/rajbhx/indexofrajbhx/blob/main/Untitled0.ipynb\" target=\"_parent\"><img src=\"https://colab.research.google.com/assets/colab-badge.svg\" alt=\"Open In Colab\"/></a>"
      ]
    },
    {
      "cell_type": "markdown",
      "metadata": {
        "id": "m5jM8gHbzWUW"
      },
      "source": [
        "## <img src='https://raw.githubusercontent.com/biplobsd/OneClickRun/master/res/appdata/NoMachine/logo_E3oZpVzB_400x400.png' height=\"25\" alt=\"NoMachine\" /> ___NoMachine___"
      ]
    },
    {
      "cell_type": "code",
      "metadata": {
        "id": "4TByiWdUD7bu"
      },
      "source": [
        "#@markdown <br><center><img src='https://raw.githubusercontent.com/biplobsd/OneClickRun/master/res/appdata/NoMachine/logo_E3oZpVzB_400x400.png' height=\"200\" alt=\"noMachine\"/></center>\n",
        "#@markdown <center>NoMachine<br><h3>Free Remote Desktop For Everybody</h3></center><br>\n",
        "import os\n",
        "import tarfile\n",
        "import urllib.request\n",
        "import shutil\n",
        "import time\n",
        "from IPython.display import HTML, clear_output\n",
        "from subprocess import Popen\n",
        "from urllib.parse import urlparse\n",
        "\n",
        "#####################################\n",
        "USE_FREE_TOKEN = False\n",
        "TOKEN = \"\"  # @param {type:\"string\"}\n",
        "REGION = \"US\" #@param [\"US\", \"EU\", \"AP\", \"AU\", \"SA\", \"JP\", \"IN\"]\n",
        "PORT_FORWARD = \"ngrok\" #@param [\"ngrok\", \"argotunnel\"]\n",
        "HOME = os.path.expanduser(\"~\")\n",
        "runW = get_ipython()\n",
        "\n",
        "if not os.path.exists(f\"{HOME}/.ipython/ocr.py\"):\n",
        "    hCode = \"https://raw.githubusercontent.com/biplobsd/\" \\\n",
        "                \"OneClickRun/master/res/ocr.py\"\n",
        "    urllib.request.urlretrieve(hCode, f\"{HOME}/.ipython/ocr.py\")\n",
        "\n",
        "from ocr import (\n",
        "    runSh,\n",
        "    loadingAn,\n",
        "    PortForward_wrapper,\n",
        "    findProcess,\n",
        "    textAn,\n",
        ")\n",
        "\n",
        "loadingAn()\n",
        "\n",
        "os.makedirs(\"tools/nomachine\", exist_ok=True)\n",
        "os.makedirs(\"/root/.icewm\", exist_ok=True)\n",
        "\n",
        "# password ganarate\n",
        "try:\n",
        "  print(f\"Found old password! : {password}\")\n",
        "except:\n",
        "  password = 'nomachine'\n",
        "\n",
        "clear_output()\n",
        "\n",
        "start = time.time()\n",
        "if not os.path.exists(\"tools/nomachine/NX/bin/nxserver\"):\n",
        "  textAn(\"Wait for almost 49 seconds. It's doing for NoMachine ready ...\")\n",
        "\n",
        "  runW.system_raw('apt update --quiet --force-yes')\n",
        "\n",
        "  # Minimal install \n",
        "  runW.system_raw(\n",
        "      'apt install --quiet --force-yes --no-install-recommends \\\n",
        "      icewm x11-xserver-utils firefox xterm pcmanfm')\n",
        "\n",
        "  # icewm theme\n",
        "  with open('/root/.icewm/theme', 'w') as w:\n",
        "    w.write('Theme=\"NanoBlue/default.theme\"')\n",
        "  \n",
        "  # with open('/root/.icewm/toolbar', 'w') as w:\n",
        "  #   w.write('prog \"chromium\" ! chromium-browser --no-sandbox')\n",
        "\n",
        "  # nomachine\n",
        "  staticUrl = \"https://github.com/biplobsd/temp/releases/download/6.9.2_1/nomachine_6.9.2_1_x86_64.tar.gz\"\n",
        "  configUrl = \"https://raw.githubusercontent.com/biplobsd/OneClickRun/master/res/appdata/NoMachine/NXetc.tar.gz\"\n",
        "  \n",
        "  output_file = 'tools/nomachine/nm.tar.gz'\n",
        "  config_file = 'tools/nomachine/etc.tar.gz'\n",
        "  urllib.request.urlretrieve(staticUrl, output_file)\n",
        "  urllib.request.urlretrieve(configUrl, config_file)\n",
        "  \n",
        "  with tarfile.open(output_file, 'r:gz') as t:t.extractall('tools/nomachine')\n",
        "  runSh('./nxserver --install', cd='tools/nomachine/NX', shell=True)\n",
        "  runSh('./nxserver --stop', cd='tools/nomachine/NX/bin', shell=True)\n",
        "  \n",
        "  shutil.rmtree('tools/nomachine/NX/etc')\n",
        "  with tarfile.open(config_file, 'r:gz') as t:t.extractall('tools/nomachine/NX')\n",
        "  os.remove(config_file)\n",
        "  \n",
        "  os.remove(output_file)\n",
        "  runSh('./nxserver --startup', cd='tools/nomachine/NX/bin', shell=True)\n",
        "  runW.system_raw(\"echo root:$password | chpasswd\")\n",
        "\n",
        "end = time.time()\n",
        "# START_SERVER\n",
        "# Ngrok region 'us','eu','ap','au','sa','jp','in'\n",
        "clear_output()\n",
        "Server = PortForward_wrapper(PORT_FORWARD, TOKEN, USE_FREE_TOKEN,\n",
        "                             [['nomachine', 4000, 'tcp']], REGION.lower(), \n",
        "               [f\"{HOME}/.ngrok2/nomachine.yml\", 8459])\n",
        "\n",
        "data = Server.start('nomachine', displayB=False)\n",
        "clear_output()\n",
        "user = os.popen('whoami').read()\n",
        "\n",
        "# Colors\n",
        "bttxt = 'hsla(10, 50%, 85%, 1)'\n",
        "btcolor = 'hsla(10, 86%, 56%, 1)'\n",
        "btshado = 'hsla(10, 40%, 52%, .4)'\n",
        "\n",
        "if PORT_FORWARD is \"argotunnel\":\n",
        "  host = data['url']\n",
        "  display(HTML(\"\"\"<style>@import url('https://fonts.googleapis.com/css?family=Source+Code+Pro:200,900');  :root {   --text-color: \"\"\"+bttxt+\"\"\";   --shadow-color: \"\"\"+btshado+\"\"\";   --btn-color: \"\"\"+btcolor+\"\"\";   --bg-color: #141218; }  * {   box-sizing: border-box; } button { position:relative; padding: 10px 20px;     border: none;   background: none;      font-family: \"Source Code Pro\";   font-weight: 900;font-size: 100%;     color: var(--text-color);      background-color: var(--btn-color);   box-shadow: var(--shadow-color) 2px 2px 22px;   border-radius: 4px;    z-index: 0;overflow: hidden; -webkit-user-select: text;-moz-user-select: text;-ms-user-select: text;user-select: text;}  button:focus {   outline-color: transparent;   box-shadow: var(--btn-color) 2px 2px 22px; }  .right::after, button::after {   content: var(--content);   display: block;   position: absolute;   white-space: nowrap;   padding: 40px 40px;   pointer-events:none; }  button::after{   font-weight: 200;   top: -30px;   left: -20px; }   .right, .left {   position: absolute;   width: 100%;   height: 100%;   top: 0; } .right {   left: 66%; } .left {   right: 66%; } .right::after {   top: -30px;   left: calc(-66% - 20px);      background-color: var(--bg-color);   color:transparent;   transition: transform .4s ease-out;   transform: translate(0, -90%) rotate(0deg) }  button:hover .right::after {   transform: translate(0, -47%) rotate(0deg) }  button .right:hover::after {   transform: translate(0, -50%) rotate(-7deg) }  button .left:hover ~ .right::after {   transform: translate(0, -50%) rotate(7deg) }  /* bubbles */ button::before {   content: '';   pointer-events: none;   opacity: .6;   background:     radial-gradient(circle at 20% 35%,  transparent 0,  transparent 2px, var(--text-color) 3px, var(--text-color) 4px, transparent 4px),     radial-gradient(circle at 75% 44%, transparent 0,  transparent 2px, var(--text-color) 3px, var(--text-color) 4px, transparent 4px),     radial-gradient(circle at 46% 52%, transparent 0, transparent 4px, var(--text-color) 5px, var(--text-color) 6px, transparent 6px);    width: 100%;   height: 300%;   top: 0;   left: 0;   position: absolute;   animation: bubbles 5s linear infinite both; }  @keyframes bubbles {   from {     transform: translate();   }   to {     transform: translate(0, -66.666%);   } }.zui-table {    border: solid 1px #DDEEEE;    border-collapse: collapse;    border-spacing: 0;    font: normal 13px;}.zui-table thead th {    background-color: #DDEFEF;    border: solid 1px #DDEEEE;    color: #0000009e;    padding: 10px;    text-align: left;}.zui-table tbody td {border: solid 1px #effff97a;color: #ffffffd1;    padding: 10px;}</style><center><button><table class=\"zui-table blueBG\"><p>NoMachine config<p><thead>        <tr><th>Username</th> <th>Password</th><th>Terminal command</th>        </tr>    </thead>    <tbody>        <tr><td>\"\"\"+user+\"\"\"</td><td>\"\"\"+password+\"\"\"</td><td>cloudflared access tcp --hostname \"\"\"+host+\"\"\" --url localhost:4000</td></tr></tbody></table><a target=\"_blank\" style=\"text-decoration: none;color: hsla(210, 50%, 85%, 1);font-size: 10px;\" href=\"https://youtu.be/LR32upTUm9E\">NB. How to setup this's config. [Click ME]</a></button><center>\"\"\"))\n",
        "elif PORT_FORWARD is 'ngrok':\n",
        "  data = urlparse(data['url'])\n",
        "  host = data.hostname\n",
        "  port = str(data.port)\n",
        "  display(HTML(\"\"\"<style>@import url('https://fonts.googleapis.com/css?family=Source+Code+Pro:200,900');  :root {   --text-color: \"\"\"+bttxt+\"\"\";   --shadow-color: \"\"\"+btshado+\"\"\";   --btn-color: \"\"\"+btcolor+\"\"\";   --bg-color: #141218; }  * {   box-sizing: border-box; } button { position:relative; padding: 10px 20px;     border: none;   background: none;      font-family: \"Source Code Pro\";   font-weight: 900;font-size: 100%;     color: var(--text-color);      background-color: var(--btn-color);   box-shadow: var(--shadow-color) 2px 2px 22px;   border-radius: 4px;    z-index: 0;overflow: hidden; -webkit-user-select: text;-moz-user-select: text;-ms-user-select: text;user-select: text;}  button:focus {   outline-color: transparent;   box-shadow: var(--btn-color) 2px 2px 22px; }  .right::after, button::after {   content: var(--content);   display: block;   position: absolute;   white-space: nowrap;   padding: 40px 40px;   pointer-events:none; }  button::after{   font-weight: 200;   top: -30px;   left: -20px; }   .right, .left {   position: absolute;   width: 100%;   height: 100%;   top: 0; } .right {   left: 66%; } .left {   right: 66%; } .right::after {   top: -30px;   left: calc(-66% - 20px);      background-color: var(--bg-color);   color:transparent;   transition: transform .4s ease-out;   transform: translate(0, -90%) rotate(0deg) }  button:hover .right::after {   transform: translate(0, -47%) rotate(0deg) }  button .right:hover::after {   transform: translate(0, -50%) rotate(-7deg) }  button .left:hover ~ .right::after {   transform: translate(0, -50%) rotate(7deg) }  /* bubbles */ button::before {   content: '';   pointer-events: none;   opacity: .6;   background:     radial-gradient(circle at 20% 35%,  transparent 0,  transparent 2px, var(--text-color) 3px, var(--text-color) 4px, transparent 4px),     radial-gradient(circle at 75% 44%, transparent 0,  transparent 2px, var(--text-color) 3px, var(--text-color) 4px, transparent 4px),     radial-gradient(circle at 46% 52%, transparent 0, transparent 4px, var(--text-color) 5px, var(--text-color) 6px, transparent 6px);    width: 100%;   height: 300%;   top: 0;   left: 0;   position: absolute;   animation: bubbles 5s linear infinite both; }  @keyframes bubbles {   from {     transform: translate();   }   to {     transform: translate(0, -66.666%);   } }.zui-table {    border: solid 1px #DDEEEE;    border-collapse: collapse;    border-spacing: 0;    font: normal 13px;}.zui-table thead th {    background-color: #DDEFEF;    border: solid 1px #DDEEEE;    color: #0000009e;    padding: 10px;    text-align: left;}.zui-table tbody td {border: solid 1px #effff97a;color: #ffffffd1;    padding: 10px;}</style><center><button><table class=\"zui-table blueBG\"><p>NoMachine config<p><thead>        <tr><th>Username</th> <th>Password</th><th>Protocol</th>            <th>Host</th>            <th>Port</th>        </tr>    </thead>    <tbody>        <tr><td>\"\"\"+user+\"\"\"</td><td>\"\"\"+password+\"\"\"</td><td>NX</td><td>\"\"\"+host+\"\"\"</td><td>\"\"\"+port+\"\"\"</td></tr></tbody></table><a target=\"_blank\" style=\"text-decoration: none;color: hsla(210, 50%, 85%, 1);font-size: 10px;\" href=\"https://raw.githubusercontent.com/biplobsd/OneClickRun/master/img/NoMachine_argoTunnel.gif\">NB. How to setup this's config. [Click ME]</a></button><center>\"\"\"))"
      ],
      "execution_count": null,
      "outputs": []
    }
  ]
}